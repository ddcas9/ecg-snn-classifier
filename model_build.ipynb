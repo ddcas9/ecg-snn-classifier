{
 "cells": [
  {
   "cell_type": "code",
   "execution_count": null,
   "id": "548851ae-6543-446c-8b57-2832017092ed",
   "metadata": {
    "tags": []
   },
   "outputs": [],
   "source": [
    "pip install -r requirements.txt"
   ]
  },
  {
   "cell_type": "code",
   "execution_count": 45,
   "id": "8d8ec4f0",
   "metadata": {},
   "outputs": [],
   "source": [
    "import tensorflow as tf\n",
    "import numpy as np\n",
    "from tensorflow import keras\n",
    "import pandas as pd\n",
    "import nengo_dl \n",
    "import nengo\n",
    "import matplotlib.pyplot as plt"
   ]
  },
  {
   "cell_type": "code",
   "execution_count": 21,
   "id": "7ff4bdef",
   "metadata": {
    "tags": []
   },
   "outputs": [
    {
     "data": {
      "text/plain": [
       "(87554, 188)"
      ]
     },
     "execution_count": 21,
     "metadata": {},
     "output_type": "execute_result"
    }
   ],
   "source": [
    "test_data = pd.read_csv(\"./heartbeat/mitbih_test.csv\", header=None)\n",
    "train_data = pd.read_csv(\"./heartbeat/mitbih_train.csv\", header=None)\n",
    "train_data.shape"
   ]
  },
  {
   "cell_type": "markdown",
   "id": "7d700132-6a9d-43fd-953d-83a6514c05f1",
   "metadata": {},
   "source": [
    "# From TensorFlow Sequential Models to Spiking Neural Networks\n",
    "\n",
    "We are going to use a TensorFlow sequential model to generate a Nengo spiking neural network. Spiking neural networks can achieve high accuracy with synaptic smoothing and a high firing rate, however, they need multiple iterations of the test data to go through before they learn. \n",
    "\n",
    "We use a model with a few convolutional layers to start with to filter the noisy signal. These few layers give us an accuracy of 100% in training and 97% in test. For the SNN, we obtain accuracies of 95% in training, while in evaluation accuracies are extremely low. This is for a number of reasons including that the sparse accuracy metric is looking at all the steps rather than the last step of the tiled data that needs to be prepared for the network to operated. \n",
    "\n",
    "## Bias\n",
    "\n",
    "The overrepresentation of normal EEG signals might allow for the model to achieve high accuracy by learning to predict normal extensively. In our case this didn't affect our results significantly due to our extensive filtering. "
   ]
  },
  {
   "cell_type": "code",
   "execution_count": 4,
   "id": "b280fe73",
   "metadata": {},
   "outputs": [
    {
     "name": "stdout",
     "output_type": "stream",
     "text": [
      "Model: \"sequential\"\n",
      "_________________________________________________________________\n",
      "Layer (type)                 Output Shape              Param #   \n",
      "=================================================================\n",
      "conv1d (Conv1D)              (None, 1, 64)             35968     \n",
      "_________________________________________________________________\n",
      "max_pooling1d (MaxPooling1D) (None, 1, 64)             0         \n",
      "_________________________________________________________________\n",
      "conv1d_1 (Conv1D)            (None, 1, 64)             12352     \n",
      "_________________________________________________________________\n",
      "max_pooling1d_1 (MaxPooling1 (None, 1, 64)             0         \n",
      "_________________________________________________________________\n",
      "flatten (Flatten)            (None, 64)                0         \n",
      "_________________________________________________________________\n",
      "dense (Dense)                (None, 128)               8320      \n",
      "_________________________________________________________________\n",
      "dense_1 (Dense)              (None, 5)                 645       \n",
      "=================================================================\n",
      "Total params: 57,285\n",
      "Trainable params: 57,285\n",
      "Non-trainable params: 0\n",
      "_________________________________________________________________\n"
     ]
    }
   ],
   "source": [
    "model = tf.keras.models.Sequential([ tf.keras.layers.Conv1D(64, (3), activation='relu', padding=\"same\", input_shape=(1,187)),\n",
    "                                      tf.keras.layers.MaxPooling1D(2, padding=\"same\"),\n",
    "                                      tf.keras.layers.Conv1D(64, (3), padding=\"same\", activation='relu'),\n",
    "                                      tf.keras.layers.MaxPooling1D(2, padding=\"same\"),\n",
    "                                    tf.keras.layers.Flatten(),\n",
    "                                    tf.keras.layers.Dense(128, activation=tf.nn.relu), \n",
    "                                    tf.keras.layers.Dense(5, activation=tf.nn.softmax)])\n",
    "\n",
    "model.summary()\n"
   ]
  },
  {
   "cell_type": "code",
   "execution_count": null,
   "id": "8e509b0f",
   "metadata": {},
   "outputs": [],
   "source": [
    "# Only run the below code if you're using TensorFlow model and no Nengo networks\n",
    "\n",
    "model.compile(optimizer = tf.keras.optimizers.Adam(),\n",
    "              loss = 'sparse_categorical_crossentropy',\n",
    "              metrics=['accuracy'])"
   ]
  },
  {
   "cell_type": "code",
   "execution_count": 23,
   "id": "ca6c1371-0b98-48bc-9367-17967e84e1ab",
   "metadata": {},
   "outputs": [
    {
     "data": {
      "text/plain": [
       "array([72471,  2223,  5788,   641,  6431])"
      ]
     },
     "execution_count": 23,
     "metadata": {},
     "output_type": "execute_result"
    }
   ],
   "source": [
    "x_train = train_data.loc[:,train_data.columns!= 187]\n",
    "y_train = train_data[train_data.columns[-1]]\n",
    "x_test = test_data.loc[:,test_data.columns!= 187]\n",
    "y_test = test_data[test_data.columns[-1]]\n",
    "\n",
    "\n",
    "np.unique(y_train, return_counts=True)[1]\n"
   ]
  },
  {
   "cell_type": "markdown",
   "id": "6d24f699-e306-4d53-a5d2-fe0f0c8a95e1",
   "metadata": {},
   "source": [
    "Recall that the data is heavily unbalanced and could bias our spiking neural network to predicting normal ECG too often. Let's try balancing the data through removal of normal signals.\n",
    "\n",
    "SNNs are particularly sensitive to unbalanced data, though interestingly our original TensorFlow model is not, and has high accuracy (~100%) on the unbalanced data set. "
   ]
  },
  {
   "cell_type": "code",
   "execution_count": 64,
   "id": "b0a1dc47-1ef2-4708-8b01-0457fb043117",
   "metadata": {},
   "outputs": [
    {
     "data": {
      "text/plain": [
       "68700.25"
      ]
     },
     "execution_count": 64,
     "metadata": {},
     "output_type": "execute_result"
    }
   ],
   "source": [
    "# Only run this cell if you want to balance the data before training and testing\n",
    "\n",
    "# counts = np.unique(y_train, return_counts=True)[1]\n",
    "# avg_of_non_normal = counts[1:].mean()\n",
    "# num_train_rows_to_eliminate = counts[0] - avg_of_non_normal\n",
    "\n",
    "# counts = np.unique(y_test, return_counts=True)[1]\n",
    "# avg_of_non_normal = counts[1:].mean()\n",
    "# num_test_rows_to_eliminate = counts[0] - avg_of_non_normal\n",
    "# num_train_rows_to_eliminate"
   ]
  },
  {
   "cell_type": "code",
   "execution_count": 22,
   "id": "2992f216-364a-4788-88d3-ce0deb8e1122",
   "metadata": {},
   "outputs": [
    {
     "ename": "NameError",
     "evalue": "name 'num_train_rows_to_eliminate' is not defined",
     "output_type": "error",
     "traceback": [
      "\u001b[0;31m---------------------------------------------------------------------------\u001b[0m",
      "\u001b[0;31mNameError\u001b[0m                                 Traceback (most recent call last)",
      "\u001b[0;32m/tmp/ipykernel_8519/1095905158.py\u001b[0m in \u001b[0;36m<module>\u001b[0;34m\u001b[0m\n\u001b[1;32m      1\u001b[0m \u001b[0;31m#comment the code in this cell out if you're not balacing the data by deleting most of the normal rows.\u001b[0m\u001b[0;34m\u001b[0m\u001b[0;34m\u001b[0m\u001b[0;34m\u001b[0m\u001b[0m\n\u001b[0;32m----> 2\u001b[0;31m \u001b[0mx_train\u001b[0m \u001b[0;34m=\u001b[0m \u001b[0mtrain_data\u001b[0m\u001b[0;34m.\u001b[0m\u001b[0mloc\u001b[0m\u001b[0;34m[\u001b[0m\u001b[0mint\u001b[0m\u001b[0;34m(\u001b[0m\u001b[0mnum_train_rows_to_eliminate\u001b[0m\u001b[0;34m)\u001b[0m\u001b[0;34m:\u001b[0m\u001b[0;34m,\u001b[0m\u001b[0mtrain_data\u001b[0m\u001b[0;34m.\u001b[0m\u001b[0mcolumns\u001b[0m\u001b[0;34m!=\u001b[0m \u001b[0;36m187\u001b[0m\u001b[0;34m]\u001b[0m\u001b[0;34m\u001b[0m\u001b[0;34m\u001b[0m\u001b[0m\n\u001b[0m\u001b[1;32m      3\u001b[0m \u001b[0my_train\u001b[0m \u001b[0;34m=\u001b[0m \u001b[0mx_train\u001b[0m\u001b[0;34m[\u001b[0m\u001b[0mx_train\u001b[0m\u001b[0;34m.\u001b[0m\u001b[0mcolumns\u001b[0m\u001b[0;34m[\u001b[0m\u001b[0;34m-\u001b[0m\u001b[0;36m1\u001b[0m\u001b[0;34m]\u001b[0m\u001b[0;34m]\u001b[0m\u001b[0;34m\u001b[0m\u001b[0;34m\u001b[0m\u001b[0m\n\u001b[1;32m      4\u001b[0m \u001b[0;34m\u001b[0m\u001b[0m\n\u001b[1;32m      5\u001b[0m \u001b[0mx_test\u001b[0m \u001b[0;34m=\u001b[0m \u001b[0mtest_data\u001b[0m\u001b[0;34m.\u001b[0m\u001b[0mloc\u001b[0m\u001b[0;34m[\u001b[0m\u001b[0mint\u001b[0m\u001b[0;34m(\u001b[0m\u001b[0mnum_test_rows_to_eliminate\u001b[0m\u001b[0;34m)\u001b[0m\u001b[0;34m:\u001b[0m\u001b[0;34m,\u001b[0m\u001b[0mtest_data\u001b[0m\u001b[0;34m.\u001b[0m\u001b[0mcolumns\u001b[0m\u001b[0;34m!=\u001b[0m \u001b[0;36m187\u001b[0m\u001b[0;34m]\u001b[0m\u001b[0;34m\u001b[0m\u001b[0;34m\u001b[0m\u001b[0m\n",
      "\u001b[0;31mNameError\u001b[0m: name 'num_train_rows_to_eliminate' is not defined"
     ]
    }
   ],
   "source": [
    "#comment the code in this cell out if you're not balacing the data by deleting most of the normal rows.\n",
    "# x_train = train_data.loc[int(num_train_rows_to_eliminate):,train_data.columns!= 187]\n",
    "# y_train = x_train[x_train.columns[-1]]\n",
    "\n",
    "# x_test = test_data.loc[int(num_test_rows_to_eliminate):,test_data.columns!= 187]\n",
    "# y_test = x_test[x_test.columns[-1]]\n"
   ]
  },
  {
   "cell_type": "code",
   "execution_count": 16,
   "id": "7777b08b-b3b6-4fe0-9e97-31594ebf1efb",
   "metadata": {},
   "outputs": [],
   "source": [
    "#If using tensorflow only and not Nengo run the following two lines and comment the nengo lines\n",
    "\n",
    "# x_train = x_train.values.reshape(-1, 1, x_train.shape[1])\n",
    "\n",
    "# x_test = x_test.values.reshape(-1, 1, x_test.shape[1])\n",
    "\n"
   ]
  },
  {
   "cell_type": "code",
   "execution_count": null,
   "id": "bd861d66-5116-4bd5-9c12-26b1c39978b6",
   "metadata": {},
   "outputs": [],
   "source": [
    "y_train"
   ]
  },
  {
   "cell_type": "code",
   "execution_count": 24,
   "id": "270e0a4b-92f7-4248-acc4-1a8763a2464d",
   "metadata": {},
   "outputs": [],
   "source": [
    "#If using Nengo run these lines\n",
    "\n",
    "x_train = x_train.values[:, None, :]\n",
    "y_train = y_train.values[:, None, None]\n",
    "\n",
    "x_test = x_test.values[:, None, :]\n",
    "y_test = y_test.values[:, None, None]"
   ]
  },
  {
   "cell_type": "code",
   "execution_count": null,
   "id": "9c06893e-d793-4834-b4a7-319bc11f8ce6",
   "metadata": {},
   "outputs": [],
   "source": [
    "# Only run the below code if you're just using TensorFlow and no Nengo network\n",
    "\n",
    "# model.fit(x_train,y_train, epochs=30)"
   ]
  },
  {
   "cell_type": "code",
   "execution_count": null,
   "id": "f85c54a9-25dd-451b-9511-31546ee813f6",
   "metadata": {},
   "outputs": [],
   "source": [
    "# Only run the below code if you're just using TensorFlow and no Nengo network\n",
    "# model.evaluate(x_test, y_test)"
   ]
  },
  {
   "cell_type": "code",
   "execution_count": null,
   "id": "7182aaa6-6062-470a-80e1-7b6432402271",
   "metadata": {
    "tags": []
   },
   "outputs": [],
   "source": [
    "# If you want to build the Nengo network without sequential, uncomment the following and get rid of the \"do Training\" cell: \n",
    "\n",
    "# with nengo.Network() as net:\n",
    "#     # input node, same as before\n",
    "#     inp = nengo.Node(output=np.ones(187))\n",
    "    \n",
    "#     hidden0 = nengo_dl.Layer(tf.keras.layers.Conv1D(64, (3), activation='relu', padding=\"same\"))(inp)\n",
    "#     hidden1 = nengo_dl.Layer(tf.keras.layers.MaxPooling1D(2, padding=\"same\"))(hidden0,shape_in=(1,64))                                 \n",
    "#     hidden2 = nengo_dl.Layer(tf.keras.layers.Conv1D(64, (3), activation='relu', padding=\"same\"))(hidden1, shape_in=(1,64))                             ,\n",
    "#     hidden3 = nengo_dl.Layer(tf.keras.layers.MaxPooling1D(2, padding=\"same\"))(hidden2, shape_in=(1,64))\n",
    "\n",
    "#     # add the Dense layers, as in the Keras model\n",
    "#     hidden4 = nengo_dl.Layer(tf.keras.layers.Dense(units=128, activation=tf.nn.relu))(\n",
    "#         hidden3\n",
    "#     )\n",
    "#     out = nengo_dl.Layer(tf.keras.layers.Dense(units=10, activation=tf.nn.softmax))(hidden4)\n",
    "\n",
    "#     # add a probe to collect output\n",
    "#     out_p = nengo.Probe(out)\n"
   ]
  },
  {
   "cell_type": "code",
   "execution_count": 7,
   "id": "c6f1ef85-7e82-49fc-b1fe-304f9409e952",
   "metadata": {},
   "outputs": [
    {
     "name": "stderr",
     "output_type": "stream",
     "text": [
      "/opt/conda/lib/python3.7/site-packages/nengo_dl/converter.py:924: UserWarning: Converting sequential model to functional model; use `Converter.model` to refer to the functional model (rather than the original sequential model) when working with the output of the Converter\n",
      "  \"Converting sequential model to functional model; \"\n",
      "/opt/conda/lib/python3.7/site-packages/nengo_dl/converter.py:325: UserWarning: max_pooling1d.padding has value same != valid, which is not supported. Falling back to TensorNode.\n",
      "  f\"{error_msg + '. ' if error_msg else ''}\"\n",
      "/opt/conda/lib/python3.7/site-packages/nengo_dl/converter.py:325: UserWarning: max_pooling1d_1.padding has value same != valid, which is not supported. Falling back to TensorNode.\n",
      "  f\"{error_msg + '. ' if error_msg else ''}\"\n",
      "/opt/conda/lib/python3.7/site-packages/nengo_dl/converter.py:587: UserWarning: Activation type <function softmax_v2 at 0x7fa850744440> does not have a native Nengo equivalent; falling back to a TensorNode\n",
      "  f\"Activation type {activation} does not have a native Nengo \"\n"
     ]
    }
   ],
   "source": [
    "converter = nengo_dl.Converter(model, max_to_avg_pool=True)"
   ]
  },
  {
   "cell_type": "markdown",
   "id": "95780d29-c273-48e8-8066-48602428073d",
   "metadata": {},
   "source": [
    "We obtain particularly good performance during training, but accuracy is not the right exact metric for this problem considering the imbalanced dataset and the fact that TensorFlow's accuracy metric does not support multiclass classifcation problems."
   ]
  },
  {
   "cell_type": "code",
   "execution_count": 8,
   "id": "a2e6947f-4b61-4ebc-9035-21dc10a364e2",
   "metadata": {
    "tags": []
   },
   "outputs": [
    {
     "name": "stdout",
     "output_type": "stream",
     "text": [
      "Build finished in 0:00:00                                                      \n",
      "Optimization finished in 0:00:00                                               \n",
      "|#####         Constructing graph: build stage (8%)              | ETA: 0:00:00"
     ]
    },
    {
     "name": "stderr",
     "output_type": "stream",
     "text": [
      "/opt/conda/lib/python3.7/site-packages/nengo_dl/simulator.py:461: UserWarning: No GPU support detected. See https://www.nengo.ai/nengo-dl/installation.html#installing-tensorflow for instructions on setting up TensorFlow with GPU support.\n",
      "  \"No GPU support detected. See \"\n"
     ]
    },
    {
     "name": "stdout",
     "output_type": "stream",
     "text": [
      "Construction finished in 0:00:00                                               \n"
     ]
    },
    {
     "name": "stderr",
     "output_type": "stream",
     "text": [
      "/opt/conda/lib/python3.7/site-packages/nengo_dl/simulator.py:1766: UserWarning: Number of elements (1) in ['ndarray'] does not match number of Nodes (4); consider using an explicit input dictionary in this case, so that the assignment of data to objects is unambiguous.\n",
      "  f\"Number of elements ({len(data)}) in \"\n"
     ]
    },
    {
     "name": "stdout",
     "output_type": "stream",
     "text": [
      "Epoch 1/2\n",
      "   37/87554 [..............................] - ETA: 6:19 - loss: 1.0153 - probe_loss: 1.0153 - probe_accuracy: 0.8378      "
     ]
    },
    {
     "name": "stderr",
     "output_type": "stream",
     "text": [
      "\n",
      "User settings:\n",
      "\n",
      "   KMP_AFFINITY=granularity=fine,verbose,compact,1,0\n",
      "   KMP_BLOCKTIME=0\n",
      "   KMP_SETTINGS=1\n",
      "   OMP_NUM_THREADS=4\n",
      "\n",
      "Effective settings:\n",
      "\n",
      "   KMP_ABORT_DELAY=0\n",
      "   KMP_ADAPTIVE_LOCK_PROPS='1,1024'\n",
      "   KMP_ALIGN_ALLOC=64\n",
      "   KMP_ALL_THREADPRIVATE=128\n",
      "   KMP_ATOMIC_MODE=2\n",
      "   KMP_BLOCKTIME=0\n",
      "   KMP_CPUINFO_FILE: value is not defined\n",
      "   KMP_DETERMINISTIC_REDUCTION=false\n",
      "   KMP_DEVICE_THREAD_LIMIT=2147483647\n",
      "   KMP_DISP_NUM_BUFFERS=7\n",
      "   KMP_DUPLICATE_LIB_OK=false\n",
      "   KMP_ENABLE_TASK_THROTTLING=true\n",
      "   KMP_FORCE_REDUCTION: value is not defined\n",
      "   KMP_FOREIGN_THREADS_THREADPRIVATE=true\n",
      "   KMP_FORKJOIN_BARRIER='2,2'\n",
      "   KMP_FORKJOIN_BARRIER_PATTERN='hyper,hyper'\n",
      "   KMP_GTID_MODE=3\n",
      "   KMP_HANDLE_SIGNALS=false\n",
      "   KMP_HOT_TEAMS_MAX_LEVEL=1\n",
      "   KMP_HOT_TEAMS_MODE=0\n",
      "   KMP_INIT_AT_FORK=true\n",
      "   KMP_LIBRARY=throughput\n",
      "   KMP_LOCK_KIND=queuing\n",
      "   KMP_MALLOC_POOL_INCR=1M\n",
      "   KMP_NUM_LOCKS_IN_BLOCK=1\n",
      "   KMP_PLAIN_BARRIER='2,2'\n",
      "   KMP_PLAIN_BARRIER_PATTERN='hyper,hyper'\n",
      "   KMP_REDUCTION_BARRIER='1,1'\n",
      "   KMP_REDUCTION_BARRIER_PATTERN='hyper,hyper'\n",
      "   KMP_SCHEDULE='static,balanced;guided,iterative'\n",
      "   KMP_SETTINGS=true\n",
      "   KMP_SPIN_BACKOFF_PARAMS='4096,100'\n",
      "   KMP_STACKOFFSET=64\n",
      "   KMP_STACKPAD=0\n",
      "   KMP_STACKSIZE=8M\n",
      "   KMP_STORAGE_MAP=false\n",
      "   KMP_TASKING=2\n",
      "   KMP_TASKLOOP_MIN_TASKS=0\n",
      "   KMP_TASK_STEALING_CONSTRAINT=1\n",
      "   KMP_TEAMS_THREAD_LIMIT=4\n",
      "   KMP_TOPOLOGY_METHOD=all\n",
      "   KMP_USE_YIELD=1\n",
      "   KMP_VERSION=false\n",
      "   KMP_WARNINGS=true\n",
      "   OMP_AFFINITY_FORMAT='OMP: pid %P tid %i thread %n bound to OS proc set {%A}'\n",
      "   OMP_ALLOCATOR=omp_default_mem_alloc\n",
      "   OMP_CANCELLATION=false\n",
      "   OMP_DEFAULT_DEVICE=0\n",
      "   OMP_DISPLAY_AFFINITY=false\n",
      "   OMP_DISPLAY_ENV=false\n",
      "   OMP_DYNAMIC=false\n",
      "   OMP_MAX_ACTIVE_LEVELS=1\n",
      "   OMP_MAX_TASK_PRIORITY=0\n",
      "   OMP_NESTED: deprecated; max-active-levels-var=1\n",
      "   OMP_NUM_THREADS='4'\n",
      "   OMP_PLACES: value is not defined\n",
      "   OMP_PROC_BIND='intel'\n",
      "   OMP_SCHEDULE='static'\n",
      "   OMP_STACKSIZE=8M\n",
      "   OMP_TARGET_OFFLOAD=DEFAULT\n",
      "   OMP_THREAD_LIMIT=2147483647\n",
      "   OMP_WAIT_POLICY=PASSIVE\n",
      "   KMP_AFFINITY='verbose,warnings,respect,granularity=fine,compact,1,0'\n",
      "\n",
      "OMP: Info #211: KMP_AFFINITY: decoding x2APIC ids.\n",
      "OMP: Info #209: KMP_AFFINITY: Affinity capable, using global cpuid leaf 11 info\n",
      "OMP: Info #154: KMP_AFFINITY: Initial OS proc set respected: 0-3\n",
      "OMP: Info #156: KMP_AFFINITY: 4 available OS procs\n",
      "OMP: Info #157: KMP_AFFINITY: Uniform topology\n",
      "OMP: Info #179: KMP_AFFINITY: 1 packages x 2 cores/pkg x 2 threads/core (2 total cores)\n",
      "OMP: Info #213: KMP_AFFINITY: OS proc to physical thread map:\n",
      "OMP: Info #171: KMP_AFFINITY: OS proc 0 maps to package 0 core 0 thread 0 \n",
      "OMP: Info #171: KMP_AFFINITY: OS proc 2 maps to package 0 core 0 thread 1 \n",
      "OMP: Info #171: KMP_AFFINITY: OS proc 1 maps to package 0 core 1 thread 0 \n",
      "OMP: Info #171: KMP_AFFINITY: OS proc 3 maps to package 0 core 1 thread 1 \n",
      "OMP: Info #249: KMP_AFFINITY: pid 8519 tid 8560 thread 0 bound to OS proc set 0\n",
      "OMP: Info #249: KMP_AFFINITY: pid 8519 tid 8561 thread 1 bound to OS proc set 1\n",
      "OMP: Info #249: KMP_AFFINITY: pid 8519 tid 8584 thread 2 bound to OS proc set 2\n",
      "OMP: Info #249: KMP_AFFINITY: pid 8519 tid 8586 thread 4 bound to OS proc set 0\n",
      "OMP: Info #249: KMP_AFFINITY: pid 8519 tid 8585 thread 3 bound to OS proc set 3\n",
      "OMP: Info #249: KMP_AFFINITY: pid 8519 tid 8587 thread 5 bound to OS proc set 1\n",
      "OMP: Info #249: KMP_AFFINITY: pid 8519 tid 8589 thread 7 bound to OS proc set 3\n",
      "OMP: Info #249: KMP_AFFINITY: pid 8519 tid 8588 thread 6 bound to OS proc set 2\n"
     ]
    },
    {
     "name": "stdout",
     "output_type": "stream",
     "text": [
      "87554/87554 [==============================] - 358s 4ms/step - loss: 0.2518 - probe_loss: 0.2518 - probe_accuracy: 0.9319\n",
      "Epoch 2/2\n",
      "87554/87554 [==============================] - 356s 4ms/step - loss: 0.1884 - probe_loss: 0.1884 - probe_accuracy: 0.9522\n",
      "21892/21892 [==============================] - 61s 3ms/step - loss: 0.1867 - probe_loss: 0.1867 - probe_accuracy: 0.9545\n"
     ]
    }
   ],
   "source": [
    "do_training = True\n",
    "if do_training:\n",
    "    with nengo_dl.Simulator(converter.net) as sim:\n",
    "        # run training\n",
    "        sim.compile(\n",
    "            optimizer=tf.optimizers.Adam(0.001),\n",
    "            loss='sparse_categorical_crossentropy',\n",
    "            metrics='accuracy',\n",
    "        )\n",
    "        sim.fit(x_train, y_train, epochs=2)\n",
    "        sim.evaluate(x_test, y_test)\n",
    "        # save the parameters to file\n",
    "        sim.save_params(\"./keras_to_snn_params\")\n",
    "else:\n",
    "    # download pretrained weights\n",
    "    sim.load_params(\"./keras_to_snn_params\")\n",
    "    print(\"Loaded pretrained weights\")\n"
   ]
  },
  {
   "cell_type": "markdown",
   "id": "bc77bdbf-5408-44a6-95cc-ec221f4d7085",
   "metadata": {},
   "source": [
    "## Converting to a Spiking Neural Network\n",
    "\n",
    "For testing purposes, we're going to convert our existing directly ported nengo network which uses relu activation functions to a spiking neural network which converts these to nengo Spiking Rectified Linear activation functions. \n",
    "\n",
    "Some hyperparameter optimizations were applied here after an initial run with `synapse = None` and `scale_firing_rates = None`. The `synapse` parameter controls the low-pass synaptic filtering done on the signals. More filtering reduces the loss, similar to how convolutional layers reduce error by boosting signal-to-noise ratio. The `scale_firing_rates` parameter governs the firing rate of the neurons in the network. Higher firing rates lead to higher accuraccy because of the way the signal is propogated, as they do in non-artificial neural networks. "
   ]
  },
  {
   "cell_type": "code",
   "execution_count": 60,
   "id": "6c0db02b-f92a-4088-9c9b-fdb16d261539",
   "metadata": {},
   "outputs": [
    {
     "name": "stderr",
     "output_type": "stream",
     "text": [
      "/opt/conda/lib/python3.7/site-packages/nengo_dl/converter.py:924: UserWarning: Converting sequential model to functional model; use `Converter.model` to refer to the functional model (rather than the original sequential model) when working with the output of the Converter\n",
      "  \"Converting sequential model to functional model; \"\n",
      "/opt/conda/lib/python3.7/site-packages/nengo_dl/converter.py:325: UserWarning: Cannot convert max pooling layers to native Nengo objects; consider setting max_to_avg_pool=True to use average pooling instead. Falling back to TensorNode.\n",
      "  f\"{error_msg + '. ' if error_msg else ''}\"\n",
      "/opt/conda/lib/python3.7/site-packages/nengo_dl/converter.py:587: UserWarning: Activation type <function softmax_v2 at 0x7fa850744440> does not have a native Nengo equivalent; falling back to a TensorNode\n",
      "  f\"Activation type {activation} does not have a native Nengo \"\n"
     ]
    }
   ],
   "source": [
    "scale_firing_rates = 35\n",
    "synapse = .01\n",
    "    \n",
    "nengo_converter = nengo_dl.Converter(\n",
    "    model,\n",
    "    swap_activations={tf.nn.relu: nengo.SpikingRectifiedLinear(),  tf.keras.activations.relu: nengo.SpikingRectifiedLinear() },\n",
    "    scale_firing_rates=scale_firing_rates,\n",
    "    synapse=synapse,\n",
    ")"
   ]
  },
  {
   "cell_type": "code",
   "execution_count": 61,
   "id": "d49f4ca0-e0d8-4df4-b332-c6b94d36d214",
   "metadata": {},
   "outputs": [],
   "source": [
    "n_steps=30"
   ]
  },
  {
   "cell_type": "code",
   "execution_count": 11,
   "id": "6c8afa5c-0a83-4bda-8c5d-074d5c08fb4d",
   "metadata": {},
   "outputs": [],
   "source": [
    "#We set a probe to record neurons for visualization purposes at the first convolutional layer. \n",
    "\n",
    "sample_neurons = np.linspace(\n",
    "        0,\n",
    "        np.prod(model.layers[1].output.shape[1:]),\n",
    "        1000,\n",
    "        endpoint=False,\n",
    "        dtype=np.int32,\n",
    "    )\n",
    "with nengo_converter.net:\n",
    "    conv1d_probe = nengo.Probe(nengo_converter.layers[model.layers[0].get_output_at(-1)])\n"
   ]
  },
  {
   "cell_type": "code",
   "execution_count": 34,
   "id": "ca241377-8d1c-4a08-af7a-9d0fac72bcb3",
   "metadata": {},
   "outputs": [],
   "source": [
    "tiled_x_test = np.tile(x_test, (1, n_steps, 1))\n",
    "tiled_y_test = np.tile(y_test, (1, n_steps, 1))"
   ]
  },
  {
   "cell_type": "code",
   "execution_count": 62,
   "id": "af383171-788a-4e59-9146-0586bdedee29",
   "metadata": {},
   "outputs": [],
   "source": [
    " with nengo_converter.net:\n",
    "        nengo_dl.configure_settings(stateful=False)"
   ]
  },
  {
   "cell_type": "code",
   "execution_count": 63,
   "id": "15c51361-6355-42d9-98fe-f429ac6ca501",
   "metadata": {
    "tags": []
   },
   "outputs": [
    {
     "name": "stdout",
     "output_type": "stream",
     "text": [
      "2189/2189 [==============================] - 82s 37ms/step - loss: 0.7116 - probe_loss: 0.7116 - probe_sparse_categorical_accuracy: 0.6913\n"
     ]
    }
   ],
   "source": [
    "def classification_accuracy(y_true, y_pred):\n",
    "    return tf.metrics.sparse_categorical_accuracy(y_true[:, -1], y_pred[:, -1])\n",
    " \n",
    "    \n",
    "with nengo_dl.Simulator(\n",
    "        nengo_converter.net, minibatch_size=10, progress_bar=False\n",
    "    ) as nengo_sim:\n",
    "        nengo_sim.load_params('./keras_to_snn_params')\n",
    "        nengo_sim.compile(loss=classification_accuracy, metrics=\"sparse_categorical_accuracy\")\n",
    "        nengo_sim.evaluate(tiled_x_test, tiled_y_test)\n"
   ]
  },
  {
   "cell_type": "code",
   "execution_count": 52,
   "id": "23ecd49e-bc12-43c6-bd61-25260d4ad612",
   "metadata": {},
   "outputs": [
    {
     "ename": "KeyError",
     "evalue": "(<Reference wrapping <KerasTensor: shape=(None, 128) dtype=float32 (created by layer 'dense')>>,)",
     "output_type": "error",
     "traceback": [
      "\u001b[0;31m---------------------------------------------------------------------------\u001b[0m",
      "\u001b[0;31mKeyError\u001b[0m                                  Traceback (most recent call last)",
      "\u001b[0;32m/tmp/ipykernel_8519/357321333.py\u001b[0m in \u001b[0;36m<module>\u001b[0;34m\u001b[0m\n\u001b[1;32m     22\u001b[0m     \u001b[0mplt\u001b[0m\u001b[0;34m.\u001b[0m\u001b[0msubplot\u001b[0m\u001b[0;34m(\u001b[0m\u001b[0;36m1\u001b[0m\u001b[0;34m,\u001b[0m \u001b[0;36m3\u001b[0m\u001b[0;34m,\u001b[0m \u001b[0;36m3\u001b[0m\u001b[0;34m)\u001b[0m\u001b[0;34m\u001b[0m\u001b[0;34m\u001b[0m\u001b[0m\n\u001b[1;32m     23\u001b[0m     \u001b[0mplt\u001b[0m\u001b[0;34m.\u001b[0m\u001b[0mtitle\u001b[0m\u001b[0;34m(\u001b[0m\u001b[0;34m\"Output predictions\"\u001b[0m\u001b[0;34m)\u001b[0m\u001b[0;34m\u001b[0m\u001b[0;34m\u001b[0m\u001b[0m\n\u001b[0;32m---> 24\u001b[0;31m     \u001b[0mplt\u001b[0m\u001b[0;34m.\u001b[0m\u001b[0mplot\u001b[0m\u001b[0;34m(\u001b[0m\u001b[0mtf\u001b[0m\u001b[0;34m.\u001b[0m\u001b[0mnn\u001b[0m\u001b[0;34m.\u001b[0m\u001b[0msoftmax\u001b[0m\u001b[0;34m(\u001b[0m\u001b[0mdata\u001b[0m\u001b[0;34m[\u001b[0m\u001b[0mnengo_converter\u001b[0m\u001b[0;34m.\u001b[0m\u001b[0moutputs\u001b[0m\u001b[0;34m[\u001b[0m\u001b[0mmodel\u001b[0m\u001b[0;34m.\u001b[0m\u001b[0mlayers\u001b[0m\u001b[0;34m[\u001b[0m\u001b[0;36m5\u001b[0m\u001b[0;34m]\u001b[0m\u001b[0;34m.\u001b[0m\u001b[0mget_output_at\u001b[0m\u001b[0;34m(\u001b[0m\u001b[0;34m-\u001b[0m\u001b[0;36m1\u001b[0m\u001b[0;34m)\u001b[0m\u001b[0;34m]\u001b[0m\u001b[0;34m]\u001b[0m\u001b[0;34m)\u001b[0m\u001b[0;34m)\u001b[0m\u001b[0;34m\u001b[0m\u001b[0;34m\u001b[0m\u001b[0m\n\u001b[0m\u001b[1;32m     25\u001b[0m     \u001b[0mplt\u001b[0m\u001b[0;34m.\u001b[0m\u001b[0mlegend\u001b[0m\u001b[0;34m(\u001b[0m\u001b[0;34m[\u001b[0m\u001b[0mstr\u001b[0m\u001b[0;34m(\u001b[0m\u001b[0mj\u001b[0m\u001b[0;34m)\u001b[0m \u001b[0;32mfor\u001b[0m \u001b[0mj\u001b[0m \u001b[0;32min\u001b[0m \u001b[0mrange\u001b[0m\u001b[0;34m(\u001b[0m\u001b[0;36m10\u001b[0m\u001b[0;34m)\u001b[0m\u001b[0;34m]\u001b[0m\u001b[0;34m,\u001b[0m \u001b[0mloc\u001b[0m\u001b[0;34m=\u001b[0m\u001b[0;34m\"upper left\"\u001b[0m\u001b[0;34m)\u001b[0m\u001b[0;34m\u001b[0m\u001b[0;34m\u001b[0m\u001b[0m\n\u001b[1;32m     26\u001b[0m     \u001b[0mplt\u001b[0m\u001b[0;34m.\u001b[0m\u001b[0mxlabel\u001b[0m\u001b[0;34m(\u001b[0m\u001b[0;34m\"Timestep\"\u001b[0m\u001b[0;34m)\u001b[0m\u001b[0;34m\u001b[0m\u001b[0;34m\u001b[0m\u001b[0m\n",
      "\u001b[0;32m/opt/conda/lib/python3.7/site-packages/nengo_dl/converter.py\u001b[0m in \u001b[0;36m__getitem__\u001b[0;34m(self, key)\u001b[0m\n\u001b[1;32m    398\u001b[0m \u001b[0;34m\u001b[0m\u001b[0m\n\u001b[1;32m    399\u001b[0m         \u001b[0;32mdef\u001b[0m \u001b[0m__getitem__\u001b[0m\u001b[0;34m(\u001b[0m\u001b[0mself\u001b[0m\u001b[0;34m,\u001b[0m \u001b[0mkey\u001b[0m\u001b[0;34m)\u001b[0m\u001b[0;34m:\u001b[0m\u001b[0;34m\u001b[0m\u001b[0;34m\u001b[0m\u001b[0m\n\u001b[0;32m--> 400\u001b[0;31m             \u001b[0;32mreturn\u001b[0m \u001b[0mself\u001b[0m\u001b[0;34m.\u001b[0m\u001b[0mdict\u001b[0m\u001b[0;34m[\u001b[0m\u001b[0mself\u001b[0m\u001b[0;34m.\u001b[0m\u001b[0m_get_key\u001b[0m\u001b[0;34m(\u001b[0m\u001b[0mkey\u001b[0m\u001b[0;34m)\u001b[0m\u001b[0;34m]\u001b[0m\u001b[0;34m\u001b[0m\u001b[0;34m\u001b[0m\u001b[0m\n\u001b[0m\u001b[1;32m    401\u001b[0m \u001b[0;34m\u001b[0m\u001b[0m\n\u001b[1;32m    402\u001b[0m         \u001b[0;32mdef\u001b[0m \u001b[0m__iter__\u001b[0m\u001b[0;34m(\u001b[0m\u001b[0mself\u001b[0m\u001b[0;34m)\u001b[0m\u001b[0;34m:\u001b[0m\u001b[0;34m\u001b[0m\u001b[0;34m\u001b[0m\u001b[0m\n",
      "\u001b[0;31mKeyError\u001b[0m: (<Reference wrapping <KerasTensor: shape=(None, 128) dtype=float32 (created by layer 'dense')>>,)"
     ]
    },
    {
     "data": {
      "image/png": "[encoded data removed]",
      "text/plain": [
       "<Figure size 864x288 with 3 Axes>"
      ]
     },
     "metadata": {
      "needs_background": "light"
     },
     "output_type": "display_data"
    }
   ],
   "source": [
    "# plotting performance, unfinished\n",
    "# for ii in range(3):\n",
    "#     plt.figure(figsize=(12, 4))\n",
    "\n",
    "#     plt.subplot(1, 3, 1)\n",
    "#     plt.title(\"Input image\")\n",
    "#     plt.imshow(x_test[ii, 0].reshape((1, 187)), cmap=\"gray\")\n",
    "#     plt.axis(\"off\")\n",
    "\n",
    "#     plt.subplot(1, 3, 2)\n",
    "#     scaled_data = data[conv1d_probe][ii] * scale_firing_rates\n",
    "#     scaled_data *= 0.001\n",
    "#     rates = np.sum(scaled_data, axis=0) / (n_steps * nengo_sim.dt)\n",
    "#     plt.ylabel(\"Number of spikes\")\n",
    "#     plt.xlabel(\"Timestep\")\n",
    "#     plt.title(\n",
    "#         f\"Neural activities (conv0 mean={rates.mean():.1f} Hz, \"\n",
    "#         f\"max={rates.max():.1f} Hz)\"\n",
    "#     )\n",
    "#     plt.plot(scaled_data)\n",
    "\n",
    "#     plt.subplot(1, 3, 3)\n",
    "#     plt.title(\"Output predictions\")\n",
    "#     plt.plot(tf.nn.softmax(data[nengo_converter.outputs[model.layers[5].get_output_at(-1)]]))\n",
    "#     plt.legend([str(j) for j in range(10)], loc=\"upper left\")\n",
    "#     plt.xlabel(\"Timestep\")\n",
    "#     plt.ylabel(\"Probability\")\n",
    "\n",
    "#     plt.tight_layout()\n"
   ]
  },
  {
   "cell_type": "markdown",
   "id": "3fcc5ac8-5b16-4505-b75e-0b7663f3f176",
   "metadata": {},
   "source": []
  },
  {
   "cell_type": "code",
   "execution_count": null,
   "id": "381c998f-ffd2-43da-81e5-08c3983f6fe2",
   "metadata": {},
   "outputs": [],
   "source": []
  },
  {
   "cell_type": "code",
   "execution_count": null,
   "id": "0d8aff9a-3082-423b-b01a-67c59bf8e80f",
   "metadata": {},
   "outputs": [],
   "source": []
  }
 ],
 "metadata": {
  "environment": {
   "name": "tf2-cpu.2-6.m81",
   "type": "gcloud",
   "uri": "gcr.io/deeplearning-platform-release/tf2-cpu.2-6:m81"
  },
  "kernelspec": {
   "display_name": "Python 3",
   "language": "python",
   "name": "python3"
  },
  "language_info": {
   "codemirror_mode": {
    "name": "ipython",
    "version": 3
   },
   "file_extension": ".py",
   "mimetype": "text/x-python",
   "name": "python",
   "nbconvert_exporter": "python",
   "pygments_lexer": "ipython3",
   "version": "3.7.10"
  }
 },
 "nbformat": 4,
 "nbformat_minor": 5
}
